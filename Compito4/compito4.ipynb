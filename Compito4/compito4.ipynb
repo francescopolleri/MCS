{
 "cells": [
  {
   "cell_type": "code",
   "execution_count": 36,
   "id": "24392267",
   "metadata": {},
   "outputs": [],
   "source": [
    "'''\n",
    " Schema per lo sviluppo del metodo di Numerov \n",
    "'''\n",
    "import matplotlib.pyplot as plt\n",
    "import numpy as np\n",
    "import math\n",
    "from scipy.integrate import trapz"
   ]
  },
  {
   "cell_type": "code",
   "execution_count": 37,
   "id": "b9d0199a",
   "metadata": {},
   "outputs": [],
   "source": [
    " \n",
    "def V(xi):\n",
    "    return xi**2\n",
    "\n",
    "\n",
    "def b(eps,xi):\n",
    "    return (h**2/12)*(2*eps-xi**2)"
   ]
  },
  {
   "cell_type": "code",
   "execution_count": 38,
   "id": "456e5cd4",
   "metadata": {},
   "outputs": [],
   "source": [
    "\n",
    "def numerov(n1,n2,eps):\n",
    "    psi = np.array(xi)*0  # copio xi in psi e lo azzero\n",
    "    j   = np.sign(n2-n1)\n",
    "    psi[n1]=0\n",
    "    psi[n1+j]=1.0e-6\n",
    "\n",
    "    for i in range(n1+2*j,n2+j,j):\n",
    "       psi[i] = ( 2*psi[i-j]*(1-5*b(eps,xi[i-j])) - psi[i-2*j]*(1+b(eps,xi[i-2*j])))/(1+b(eps,xi[i]))\n",
    "    return psi"
   ]
  },
  {
   "cell_type": "code",
   "execution_count": 48,
   "id": "0120c4dc",
   "metadata": {},
   "outputs": [],
   "source": [
    "\n",
    "\n",
    "def evalDerivative(eps):\n",
    "    global psir,psil\n",
    "    psil = numerov(0,nmatch+1,eps)\n",
    "    psir = numerov(n-1,nmatch-1,eps)\n",
    "\n",
    "    psir = (psil[nmatch]/psir[nmatch])*psir\n",
    " \n",
    "    der_r = (psir[nmatch+1]-psir[nmatch-1])/(2*h)\n",
    "    der_l = (psil[nmatch+1]-psil[nmatch-1])/(2*h)\n",
    "  \n",
    "    diff = der_l-der_r\n",
    "\n",
    "    return diff\n",
    "\n",
    "       \n",
    "\n"
   ]
  },
  {
   "cell_type": "code",
   "execution_count": 49,
   "id": "6295c03b",
   "metadata": {},
   "outputs": [],
   "source": [
    "''' \n",
    "  Metodo di bisezione per trovare l'energia in cui la funzione evalDerivative\n",
    "  e' nulla. Cioe' l'enegia per cui  la derivata sinistra e destra coincidono \n",
    "'''\n",
    "\n",
    "def findE(emin,emax,tol):\n",
    "    while (emax-emin>tol):\n",
    "        emed = (emin+emax)/2\n",
    "        if evalDerivative(emin)*evalDerivative(emed)<0:\n",
    "            emax = emed\n",
    "        else:\n",
    "            emin = emed\n",
    "    return (emin+emax)/2;\n"
   ]
  },
  {
   "cell_type": "code",
   "execution_count": 57,
   "id": "7b6a6b0b",
   "metadata": {},
   "outputs": [
    {
     "name": "stdout",
     "output_type": "stream",
     "text": [
      "Energy 1 1.500018310546875\n"
     ]
    },
    {
     "data": {
      "image/png": "[encoded data removed]",
      "text/plain": [
       "<Figure size 432x288 with 1 Axes>"
      ]
     },
     "metadata": {
      "needs_background": "light"
     },
     "output_type": "display_data"
    }
   ],
   "source": [
    "''' \n",
    "  Codice principale: l'esecuzione dello script parte da qui\n",
    "'''\n",
    "n       = 14000\n",
    "nmatch  = 10000\n",
    "xi      = np.linspace(-7.,7,n)\n",
    "h       = xi[1]-xi[0]\n",
    "\n",
    "\n",
    "e1 = findE(1.2,1.7,0.0001)\n",
    "print (\"Energy 1\", e1)\n",
    "\n",
    "Emin=0\n",
    "Emax=4\n",
    "\n",
    "psiTot=np.empty(n)\n",
    "for i in range(0,nmatch+1):\n",
    "        psiTot[i]=psil[i]\n",
    "\n",
    "for i in range(nmatch+1,n):\n",
    "        psiTot[i]=psir[i]\n",
    "\n",
    "\n",
    "plt.plot(xi,psiTot)\n",
    "plt.show()\n",
    "\n"
   ]
  },
  {
   "cell_type": "code",
   "execution_count": 58,
   "id": "c3053bd6",
   "metadata": {},
   "outputs": [
    {
     "name": "stdout",
     "output_type": "stream",
     "text": [
      "alpha = 187526799809.2301\n"
     ]
    },
    {
     "data": {
      "image/png": "[encoded data removed]",
      "text/plain": [
       "<Figure size 432x288 with 1 Axes>"
      ]
     },
     "metadata": {
      "needs_background": "light"
     },
     "output_type": "display_data"
    }
   ],
   "source": [
    "epsilon = 1.5   # o altra energia di stato definito eps = (n+1/2)\n",
    "psi1=numerov(0,n-1,epsilon)\n",
    "\n",
    "I1=trapz(abs(psi1)**2,xi)\n",
    "print(\"alpha =\",I1)\n",
    "\n",
    "psi1N=psi1/math.sqrt(abs(I1))\n",
    "\n",
    "plt.plot(xi,psi1N)\n",
    "plt.show()"
   ]
  },
  {
   "cell_type": "code",
   "execution_count": null,
   "id": "4aa47a0d",
   "metadata": {},
   "outputs": [],
   "source": []
  }
 ],
 "metadata": {
  "kernelspec": {
   "display_name": "Python 3 (ipykernel)",
   "language": "python",
   "name": "python3"
  },
  "language_info": {
   "codemirror_mode": {
    "name": "ipython",
    "version": 3
   },
   "file_extension": ".py",
   "mimetype": "text/x-python",
   "name": "python",
   "nbconvert_exporter": "python",
   "pygments_lexer": "ipython3",
   "version": "3.8.10"
  }
 },
 "nbformat": 4,
 "nbformat_minor": 5
}
