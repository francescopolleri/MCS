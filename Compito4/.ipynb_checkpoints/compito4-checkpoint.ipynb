{
 "cells": [
  {
   "cell_type": "code",
   "execution_count": 4,
   "id": "24392267",
   "metadata": {},
   "outputs": [],
   "source": [
    "'''\n",
    " Schema per lo sviluppo del metodo di Numerov \n",
    "'''\n",
    "import matplotlib.pyplot as plt\n",
    "import numpy as np\n",
    "import math\n",
    "from scipy.integrate import trapz"
   ]
  },
  {
   "cell_type": "code",
   "execution_count": 5,
   "id": "b9d0199a",
   "metadata": {},
   "outputs": [],
   "source": [
    " def V(xi):\n",
    "    return xi**2\n",
    "\n",
    "\n",
    "def b(eps,xi):\n",
    "    return (h**2/12)*(2*eps-xi**2)"
   ]
  },
  {
   "cell_type": "code",
   "execution_count": 6,
   "id": "456e5cd4",
   "metadata": {},
   "outputs": [],
   "source": [
    "\n",
    "def numerov(n1,n2,eps):\n",
    "    psi = np.array(xi)*0  # copio xi in psi e lo azzero\n",
    "    j   = np.sign(n2-n1)\n",
    "    psi[n1]=0\n",
    "    psi[n1+j]=1.0e-6\n",
    "\n",
    "    for i in range(n1+2*j,n2+j,j):\n",
    "       psi[i] = ( 2*psi[i-j]*(1-5*b(eps,xi[i-j])) - psi[i-2*j]*(1+b(eps,xi[i-2*j])))/(1+b(eps,xi[i]))\n",
    "    return psi"
   ]
  },
  {
   "cell_type": "code",
   "execution_count": 7,
   "id": "0120c4dc",
   "metadata": {},
   "outputs": [],
   "source": [
    "\n",
    "\n",
    "def evalDerivative(eps):\n",
    "    global psir,psil\n",
    "    psil = numerov(0,nmatch+1,eps)\n",
    "    psir = numerov(n-1,nmatch-1,eps)\n",
    "\n",
    "    psir = (psil[nmatch]/psir[nmatch])*psir\n",
    " \n",
    "    der_r = (psir[nmatch+1]-psir[nmatch-1])/(2*h)\n",
    "    der_l = (psil[nmatch+1]-psil[nmatch-1])/(2*h)\n",
    "  \n",
    "    diff = der_l-der_r\n",
    "\n",
    "    return diff\n",
    "\n",
    "       \n",
    "\n"
   ]
  },
  {
   "cell_type": "code",
   "execution_count": 8,
   "id": "6295c03b",
   "metadata": {},
   "outputs": [],
   "source": [
    "''' \n",
    "  Metodo di bisezione per trovare l'energia in cui la funzione evalDerivative\n",
    "  e' nulla. Cioe' l'enegia per cui  la derivata sinistra e destra coincidono \n",
    "'''\n",
    "\n",
    "def findE(emin,emax,tol):\n",
    "    while (emax-emin>tol):\n",
    "        emed = (emin+emax)/2\n",
    "        if evalDerivative(emin)*evalDerivative(emed)<0:\n",
    "            emax = emed\n",
    "        else:\n",
    "            emin = emed\n",
    "    return (emin+emax)/2;\n"
   ]
  },
  {
   "cell_type": "code",
   "execution_count": 15,
   "id": "7b6a6b0b",
   "metadata": {},
   "outputs": [
    {
     "ename": "KeyboardInterrupt",
     "evalue": "",
     "output_type": "error",
     "traceback": [
      "\u001b[0;31m---------------------------------------------------------------------------\u001b[0m",
      "\u001b[0;31mKeyboardInterrupt\u001b[0m                         Traceback (most recent call last)",
      "\u001b[0;32m/tmp/ipykernel_1148/2779611048.py\u001b[0m in \u001b[0;36m<module>\u001b[0;34m\u001b[0m\n\u001b[1;32m     14\u001b[0m \u001b[0;34m\u001b[0m\u001b[0m\n\u001b[1;32m     15\u001b[0m \u001b[0;32mwhile\u001b[0m \u001b[0;34m(\u001b[0m\u001b[0menergy\u001b[0m\u001b[0;34m<\u001b[0m\u001b[0mEmax\u001b[0m\u001b[0;34m)\u001b[0m\u001b[0;34m:\u001b[0m\u001b[0;34m\u001b[0m\u001b[0;34m\u001b[0m\u001b[0m\n\u001b[0;32m---> 16\u001b[0;31m     \u001b[0mEpsilon\u001b[0m\u001b[0;34m=\u001b[0m\u001b[0mfindE\u001b[0m\u001b[0;34m(\u001b[0m\u001b[0;36m0\u001b[0m\u001b[0;34m,\u001b[0m\u001b[0menergy\u001b[0m\u001b[0;34m,\u001b[0m\u001b[0;36m0.0001\u001b[0m\u001b[0;34m)\u001b[0m\u001b[0;34m\u001b[0m\u001b[0;34m\u001b[0m\u001b[0m\n\u001b[0m\u001b[1;32m     17\u001b[0m     \u001b[0menergy\u001b[0m\u001b[0;34m=\u001b[0m\u001b[0menergy\u001b[0m\u001b[0;34m+\u001b[0m\u001b[0mdelta_e\u001b[0m\u001b[0;34m\u001b[0m\u001b[0;34m\u001b[0m\u001b[0m\n\u001b[1;32m     18\u001b[0m \u001b[0;34m\u001b[0m\u001b[0m\n",
      "\u001b[0;32m/tmp/ipykernel_1148/1167042951.py\u001b[0m in \u001b[0;36mfindE\u001b[0;34m(emin, emax, tol)\u001b[0m\n\u001b[1;32m      7\u001b[0m     \u001b[0;32mwhile\u001b[0m \u001b[0;34m(\u001b[0m\u001b[0memax\u001b[0m\u001b[0;34m-\u001b[0m\u001b[0memin\u001b[0m\u001b[0;34m>\u001b[0m\u001b[0mtol\u001b[0m\u001b[0;34m)\u001b[0m\u001b[0;34m:\u001b[0m\u001b[0;34m\u001b[0m\u001b[0;34m\u001b[0m\u001b[0m\n\u001b[1;32m      8\u001b[0m         \u001b[0memed\u001b[0m \u001b[0;34m=\u001b[0m \u001b[0;34m(\u001b[0m\u001b[0memin\u001b[0m\u001b[0;34m+\u001b[0m\u001b[0memax\u001b[0m\u001b[0;34m)\u001b[0m\u001b[0;34m/\u001b[0m\u001b[0;36m2\u001b[0m\u001b[0;34m\u001b[0m\u001b[0;34m\u001b[0m\u001b[0m\n\u001b[0;32m----> 9\u001b[0;31m         \u001b[0;32mif\u001b[0m \u001b[0mevalDerivative\u001b[0m\u001b[0;34m(\u001b[0m\u001b[0memin\u001b[0m\u001b[0;34m)\u001b[0m\u001b[0;34m*\u001b[0m\u001b[0mevalDerivative\u001b[0m\u001b[0;34m(\u001b[0m\u001b[0memed\u001b[0m\u001b[0;34m)\u001b[0m\u001b[0;34m<\u001b[0m\u001b[0;36m0\u001b[0m\u001b[0;34m:\u001b[0m\u001b[0;34m\u001b[0m\u001b[0;34m\u001b[0m\u001b[0m\n\u001b[0m\u001b[1;32m     10\u001b[0m             \u001b[0memax\u001b[0m \u001b[0;34m=\u001b[0m \u001b[0memed\u001b[0m\u001b[0;34m\u001b[0m\u001b[0;34m\u001b[0m\u001b[0m\n\u001b[1;32m     11\u001b[0m         \u001b[0;32melse\u001b[0m\u001b[0;34m:\u001b[0m\u001b[0;34m\u001b[0m\u001b[0;34m\u001b[0m\u001b[0m\n",
      "\u001b[0;32m/tmp/ipykernel_1148/3501440062.py\u001b[0m in \u001b[0;36mevalDerivative\u001b[0;34m(eps)\u001b[0m\n\u001b[1;32m      1\u001b[0m \u001b[0;32mdef\u001b[0m \u001b[0mevalDerivative\u001b[0m\u001b[0;34m(\u001b[0m\u001b[0meps\u001b[0m\u001b[0;34m)\u001b[0m\u001b[0;34m:\u001b[0m\u001b[0;34m\u001b[0m\u001b[0;34m\u001b[0m\u001b[0m\n\u001b[1;32m      2\u001b[0m     \u001b[0;32mglobal\u001b[0m \u001b[0mpsir\u001b[0m\u001b[0;34m,\u001b[0m\u001b[0mpsil\u001b[0m\u001b[0;34m\u001b[0m\u001b[0;34m\u001b[0m\u001b[0m\n\u001b[0;32m----> 3\u001b[0;31m     \u001b[0mpsil\u001b[0m \u001b[0;34m=\u001b[0m \u001b[0mnumerov\u001b[0m\u001b[0;34m(\u001b[0m\u001b[0;36m0\u001b[0m\u001b[0;34m,\u001b[0m\u001b[0mnmatch\u001b[0m\u001b[0;34m+\u001b[0m\u001b[0;36m1\u001b[0m\u001b[0;34m,\u001b[0m\u001b[0meps\u001b[0m\u001b[0;34m)\u001b[0m\u001b[0;34m\u001b[0m\u001b[0;34m\u001b[0m\u001b[0m\n\u001b[0m\u001b[1;32m      4\u001b[0m     \u001b[0mpsir\u001b[0m \u001b[0;34m=\u001b[0m \u001b[0mnumerov\u001b[0m\u001b[0;34m(\u001b[0m\u001b[0mn\u001b[0m\u001b[0;34m-\u001b[0m\u001b[0;36m1\u001b[0m\u001b[0;34m,\u001b[0m\u001b[0mnmatch\u001b[0m\u001b[0;34m-\u001b[0m\u001b[0;36m1\u001b[0m\u001b[0;34m,\u001b[0m\u001b[0meps\u001b[0m\u001b[0;34m)\u001b[0m\u001b[0;34m\u001b[0m\u001b[0;34m\u001b[0m\u001b[0m\n\u001b[1;32m      5\u001b[0m \u001b[0;34m\u001b[0m\u001b[0m\n",
      "\u001b[0;32m/tmp/ipykernel_1148/3641957020.py\u001b[0m in \u001b[0;36mnumerov\u001b[0;34m(n1, n2, eps)\u001b[0m\n\u001b[1;32m      6\u001b[0m \u001b[0;34m\u001b[0m\u001b[0m\n\u001b[1;32m      7\u001b[0m     \u001b[0;32mfor\u001b[0m \u001b[0mi\u001b[0m \u001b[0;32min\u001b[0m \u001b[0mrange\u001b[0m\u001b[0;34m(\u001b[0m\u001b[0mn1\u001b[0m\u001b[0;34m+\u001b[0m\u001b[0;36m2\u001b[0m\u001b[0;34m*\u001b[0m\u001b[0mj\u001b[0m\u001b[0;34m,\u001b[0m\u001b[0mn2\u001b[0m\u001b[0;34m+\u001b[0m\u001b[0mj\u001b[0m\u001b[0;34m,\u001b[0m\u001b[0mj\u001b[0m\u001b[0;34m)\u001b[0m\u001b[0;34m:\u001b[0m\u001b[0;34m\u001b[0m\u001b[0;34m\u001b[0m\u001b[0m\n\u001b[0;32m----> 8\u001b[0;31m        \u001b[0mpsi\u001b[0m\u001b[0;34m[\u001b[0m\u001b[0mi\u001b[0m\u001b[0;34m]\u001b[0m \u001b[0;34m=\u001b[0m \u001b[0;34m(\u001b[0m \u001b[0;36m2\u001b[0m\u001b[0;34m*\u001b[0m\u001b[0mpsi\u001b[0m\u001b[0;34m[\u001b[0m\u001b[0mi\u001b[0m\u001b[0;34m-\u001b[0m\u001b[0mj\u001b[0m\u001b[0;34m]\u001b[0m\u001b[0;34m*\u001b[0m\u001b[0;34m(\u001b[0m\u001b[0;36m1\u001b[0m\u001b[0;34m-\u001b[0m\u001b[0;36m5\u001b[0m\u001b[0;34m*\u001b[0m\u001b[0mb\u001b[0m\u001b[0;34m(\u001b[0m\u001b[0meps\u001b[0m\u001b[0;34m,\u001b[0m\u001b[0mxi\u001b[0m\u001b[0;34m[\u001b[0m\u001b[0mi\u001b[0m\u001b[0;34m-\u001b[0m\u001b[0mj\u001b[0m\u001b[0;34m]\u001b[0m\u001b[0;34m)\u001b[0m\u001b[0;34m)\u001b[0m \u001b[0;34m-\u001b[0m \u001b[0mpsi\u001b[0m\u001b[0;34m[\u001b[0m\u001b[0mi\u001b[0m\u001b[0;34m-\u001b[0m\u001b[0;36m2\u001b[0m\u001b[0;34m*\u001b[0m\u001b[0mj\u001b[0m\u001b[0;34m]\u001b[0m\u001b[0;34m*\u001b[0m\u001b[0;34m(\u001b[0m\u001b[0;36m1\u001b[0m\u001b[0;34m+\u001b[0m\u001b[0mb\u001b[0m\u001b[0;34m(\u001b[0m\u001b[0meps\u001b[0m\u001b[0;34m,\u001b[0m\u001b[0mxi\u001b[0m\u001b[0;34m[\u001b[0m\u001b[0mi\u001b[0m\u001b[0;34m-\u001b[0m\u001b[0;36m2\u001b[0m\u001b[0;34m*\u001b[0m\u001b[0mj\u001b[0m\u001b[0;34m]\u001b[0m\u001b[0;34m)\u001b[0m\u001b[0;34m)\u001b[0m\u001b[0;34m)\u001b[0m\u001b[0;34m/\u001b[0m\u001b[0;34m(\u001b[0m\u001b[0;36m1\u001b[0m\u001b[0;34m+\u001b[0m\u001b[0mb\u001b[0m\u001b[0;34m(\u001b[0m\u001b[0meps\u001b[0m\u001b[0;34m,\u001b[0m\u001b[0mxi\u001b[0m\u001b[0;34m[\u001b[0m\u001b[0mi\u001b[0m\u001b[0;34m]\u001b[0m\u001b[0;34m)\u001b[0m\u001b[0;34m)\u001b[0m\u001b[0;34m\u001b[0m\u001b[0;34m\u001b[0m\u001b[0m\n\u001b[0m\u001b[1;32m      9\u001b[0m     \u001b[0;32mreturn\u001b[0m \u001b[0mpsi\u001b[0m\u001b[0;34m\u001b[0m\u001b[0;34m\u001b[0m\u001b[0m\n",
      "\u001b[0;31mKeyboardInterrupt\u001b[0m: "
     ]
    }
   ],
   "source": [
    "''' \n",
    "  Codice principale: l'esecuzione dello script parte da qui\n",
    "'''\n",
    "n       = 14000\n",
    "nmatch  = 10000\n",
    "xi      = np.linspace(-7.,7,n)\n",
    "h       = xi[1]-xi[0]\n",
    "\n",
    "Emin=0\n",
    "Emax=4\n",
    "delta_e=0.05\n",
    "energy=0\n",
    "Epsilon=[]\n",
    "\n",
    "while (energy<Emax):\n",
    "    Epsilon=findE(0,energy,0.0001)\n",
    "    energy=energy+delta_e\n",
    "\n",
    "print (Epsilon)\n",
    "\n",
    "psiTot=np.empty(n)\n",
    "for i in range(0,nmatch+1):\n",
    "        psiTot[i]=psil[i]\n",
    "\n",
    "for i in range(nmatch+1,n):\n",
    "        psiTot[i]=psir[i]\n",
    "\n",
    "\n",
    "plt.plot(xi,psiTot)\n",
    "plt.show()\n",
    "\n"
   ]
  },
  {
   "cell_type": "code",
   "execution_count": 10,
   "id": "c3053bd6",
   "metadata": {},
   "outputs": [
    {
     "name": "stdout",
     "output_type": "stream",
     "text": [
      "alpha = 187526799809.2301\n"
     ]
    },
    {
     "data": {
      "image/png": "[encoded data removed]",
      "text/plain": [
       "<Figure size 432x288 with 1 Axes>"
      ]
     },
     "metadata": {
      "needs_background": "light"
     },
     "output_type": "display_data"
    }
   ],
   "source": [
    "epsilon = 1.5   # o altra energia di stato definito eps = (n+1/2)\n",
    "psi1=numerov(0,n-1,epsilon)\n",
    "\n",
    "I1=trapz(abs(psi1)**2,xi)\n",
    "print(\"alpha =\",I1)\n",
    "\n",
    "psi1N=psi1/math.sqrt(abs(I1))\n",
    "\n",
    "plt.plot(xi,psi1N)\n",
    "plt.show()"
   ]
  },
  {
   "cell_type": "code",
   "execution_count": 14,
   "id": "4aa47a0d",
   "metadata": {},
   "outputs": [
    {
     "data": {
      "text/plain": [
       "[<matplotlib.lines.Line2D at 0x7fcada63dbb0>]"
      ]
     },
     "execution_count": 14,
     "metadata": {},
     "output_type": "execute_result"
    },
    {
     "data": {
      "image/png": "[encoded data removed]",
      "text/plain": [
       "<Figure size 432x288 with 3 Axes>"
      ]
     },
     "metadata": {
      "needs_background": "light"
     },
     "output_type": "display_data"
    }
   ],
   "source": [
    "epsilon=[0.5,1.5,2.5]\n",
    "\n",
    "f0=numerov(0,n-1,epsilon[0])\n",
    "f1=numerov(0,n-1,epsilon[1])\n",
    "f2=numerov(0,n-1,epsilon[2])\n",
    "\n",
    "fig,((ax1,ax2,ax3))=plt.subplots(1,3)\n",
    "ax1.plot(xi,f0,color='b')\n",
    "ax2.plot(xi,f1,color='r')\n",
    "ax3.plot(xi,f2,color='g')"
   ]
  },
  {
   "cell_type": "code",
   "execution_count": null,
   "id": "55b1770b",
   "metadata": {},
   "outputs": [],
   "source": []
  }
 ],
 "metadata": {
  "kernelspec": {
   "display_name": "Python 3 (ipykernel)",
   "language": "python",
   "name": "python3"
  },
  "language_info": {
   "codemirror_mode": {
    "name": "ipython",
    "version": 3
   },
   "file_extension": ".py",
   "mimetype": "text/x-python",
   "name": "python",
   "nbconvert_exporter": "python",
   "pygments_lexer": "ipython3",
   "version": "3.8.10"
  }
 },
 "nbformat": 4,
 "nbformat_minor": 5
}
