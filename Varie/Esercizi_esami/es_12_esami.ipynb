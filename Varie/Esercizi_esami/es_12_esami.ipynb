{
 "cells": [
  {
   "cell_type": "code",
   "execution_count": 1,
   "id": "6c0da130",
   "metadata": {},
   "outputs": [
    {
     "name": "stdout",
     "output_type": "stream",
     "text": [
      "Welcome to JupyROOT 6.24/02\n"
     ]
    }
   ],
   "source": [
    "import numpy as np\n",
    "import matplotlib.pyplot as plt\n",
    "from ROOT import *\n",
    "import time as t"
   ]
  },
  {
   "cell_type": "code",
   "execution_count": 39,
   "id": "ff03f73b",
   "metadata": {},
   "outputs": [
    {
     "name": "stdout",
     "output_type": "stream",
     "text": [
      "1.2657458035623923e-29 161.97694786512318\n",
      " FCN=161.977 FROM MIGRAD    STATUS=CONVERGED      35 CALLS          36 TOTAL\n",
      "                     EDM=5.68583e-10    STRATEGY= 1      ERROR MATRIX ACCURATE \n",
      "  EXT PARAMETER                                   STEP         FIRST   \n",
      "  NO.   NAME      VALUE            ERROR          SIZE      DERIVATIVE \n",
      "   1  p0           1.40913e+01   4.63491e-02   2.88920e-04   7.10862e-04\n",
      "   2  p1           1.41420e+04   1.75086e+02   1.09090e+00   4.07150e-08\n"
     ]
    },
    {
     "name": "stderr",
     "output_type": "stream",
     "text": [
      "Warning in <TROOT::Append>: Replacing existing TH1: h (Potential memory leak).\n",
      "Warning in <TCanvas::Constructor>: Deleting canvas with same name: c1\n"
     ]
    },
    {
     "data": {
      "image/png": "[encoded data removed]",
      "text/plain": [
       "<IPython.core.display.Image object>"
      ]
     },
     "metadata": {},
     "output_type": "display_data"
    }
   ],
   "source": [
    "rnd=TRandom3()\n",
    "rnd.SetSeed(123456789)\n",
    "\n",
    "Nev=100000\n",
    "\n",
    "mu=14\n",
    "n=0\n",
    "s=0\n",
    "\n",
    "h=TH1D(\"h\",\"\",12,0,0)\n",
    "for i in range (0,Nev):\n",
    "    dt = -np.log(1-rnd.Rndm())\n",
    "    s += dt\n",
    "    if(s>mu):          \n",
    "        h.Fill(i-n-1)\n",
    "        n=i\n",
    "        s=0\n",
    "\n",
    "f=TF1(\"f\",\"[1]*TMath::Poisson(x,[0])\")\n",
    "f.SetParameter(0,mu)\n",
    "f.SetParameter(1,h.GetEntries()*h.GetBinWidth(1))\n",
    "    \n",
    "c1=TCanvas(\"c1\",\"\",500,500)\n",
    "c1.Draw()\n",
    "c1.cd()\n",
    "h.SetMarkerStyle(20)\n",
    "h.Fit('f')\n",
    "h.Draw()\n",
    "\n",
    "print(f.GetProb(),f.GetChisquare())"
   ]
  },
  {
   "cell_type": "code",
   "execution_count": null,
   "id": "2a77a917",
   "metadata": {},
   "outputs": [],
   "source": []
  },
  {
   "cell_type": "code",
   "execution_count": null,
   "id": "b63a0a18",
   "metadata": {},
   "outputs": [],
   "source": []
  }
 ],
 "metadata": {
  "kernelspec": {
   "display_name": "Python 3 (ipykernel)",
   "language": "python",
   "name": "python3"
  },
  "language_info": {
   "codemirror_mode": {
    "name": "ipython",
    "version": 3
   },
   "file_extension": ".py",
   "mimetype": "text/x-python",
   "name": "python",
   "nbconvert_exporter": "python",
   "pygments_lexer": "ipython3",
   "version": "3.8.10"
  }
 },
 "nbformat": 4,
 "nbformat_minor": 5
}
