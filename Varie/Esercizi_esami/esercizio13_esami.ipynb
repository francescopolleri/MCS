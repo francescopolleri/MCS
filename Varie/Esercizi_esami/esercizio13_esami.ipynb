{
 "cells": [
  {
   "cell_type": "code",
   "execution_count": 14,
   "id": "279ea49d",
   "metadata": {},
   "outputs": [],
   "source": [
    "import numpy as np\n",
    "import math as m\n",
    "import matplotlib.pyplot as plt"
   ]
  },
  {
   "cell_type": "code",
   "execution_count": 15,
   "id": "d26701ac",
   "metadata": {},
   "outputs": [
    {
     "name": "stdout",
     "output_type": "stream",
     "text": [
      "x2-x1 =  1 +/- 0.0\n"
     ]
    }
   ],
   "source": [
    "rho=np.linspace(0,1,100)\n",
    "\n",
    "x1=1\n",
    "x2=2\n",
    "sig1=0.1\n",
    "sig2=0.1\n",
    "\n",
    "r=1\n",
    "\n",
    "sig=sig1**2+sig2**2-2*r*sig1*sig2  #x2-x1 è combinazione lineare di x1 e x2\n",
    "\n",
    "d=x2-x1\n",
    "\n",
    "print('x2-x1 = ',d,'+/-',sig)"
   ]
  },
  {
   "cell_type": "code",
   "execution_count": 16,
   "id": "4d7b3daf",
   "metadata": {},
   "outputs": [],
   "source": [
    "def sigma(a,b,r):\n",
    "    return a**2+b**2-2*r*a*b\n",
    "\n",
    "err=np.array([])\n",
    "for i in range(0,100):\n",
    "    err=np.append(err,sigma(sig1,sig2,rho[i]))\n",
    "    \n",
    "delta=np.array([])\n",
    "for i in range(0,100):\n",
    "    delta=np.append(delta,d)"
   ]
  },
  {
   "cell_type": "code",
   "execution_count": 19,
   "id": "738e7ffa",
   "metadata": {},
   "outputs": [
    {
     "data": {
      "text/plain": [
       "<ErrorbarContainer object of 3 artists>"
      ]
     },
     "execution_count": 19,
     "metadata": {},
     "output_type": "execute_result"
    },
    {
     "data": {
      "image/png": "[encoded data removed]",
      "text/plain": [
       "<Figure size 432x288 with 1 Axes>"
      ]
     },
     "metadata": {
      "needs_background": "light"
     },
     "output_type": "display_data"
    }
   ],
   "source": [
    "plt.errorbar(rho,delta,err,0,ecolor='k')"
   ]
  },
  {
   "cell_type": "code",
   "execution_count": null,
   "id": "9a685f3a",
   "metadata": {},
   "outputs": [],
   "source": []
  }
 ],
 "metadata": {
  "kernelspec": {
   "display_name": "Python 3 (ipykernel)",
   "language": "python",
   "name": "python3"
  },
  "language_info": {
   "codemirror_mode": {
    "name": "ipython",
    "version": 3
   },
   "file_extension": ".py",
   "mimetype": "text/x-python",
   "name": "python",
   "nbconvert_exporter": "python",
   "pygments_lexer": "ipython3",
   "version": "3.8.10"
  }
 },
 "nbformat": 4,
 "nbformat_minor": 5
}
