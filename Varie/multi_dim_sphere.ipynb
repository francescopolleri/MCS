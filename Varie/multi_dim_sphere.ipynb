{
 "cells": [
  {
   "cell_type": "code",
   "execution_count": 3,
   "id": "5db2946d",
   "metadata": {},
   "outputs": [
    {
     "name": "stdout",
     "output_type": "stream",
     "text": [
      "Welcome to JupyROOT 6.24/02\n"
     ]
    }
   ],
   "source": [
    "import numpy as np\n",
    "import math as m\n",
    "from ROOT import *\n"
   ]
  },
  {
   "cell_type": "code",
   "execution_count": 43,
   "id": "f76dcf9f",
   "metadata": {},
   "outputs": [
    {
     "name": "stdout",
     "output_type": "stream",
     "text": [
      "dimension = 2 --> alpha =  3.15488\n",
      "dimension = 3 --> alpha =  4.18016\n",
      "dimension = 4 --> alpha =  4.91136\n",
      "dimension = 5 --> alpha =  5.2368\n",
      "dimension = 6 --> alpha =  5.27296\n"
     ]
    },
    {
     "ename": "IndexError",
     "evalue": "index 5 is out of bounds for axis 0 with size 5",
     "output_type": "error",
     "traceback": [
      "\u001b[0;31m---------------------------------------------------------------------------\u001b[0m",
      "\u001b[0;31mIndexError\u001b[0m                                Traceback (most recent call last)",
      "\u001b[0;32m/tmp/ipykernel_1125/458903768.py\u001b[0m in \u001b[0;36m<module>\u001b[0;34m\u001b[0m\n\u001b[1;32m     46\u001b[0m \u001b[0;34m\u001b[0m\u001b[0m\n\u001b[1;32m     47\u001b[0m \u001b[0;32mfor\u001b[0m \u001b[0mi\u001b[0m \u001b[0;32min\u001b[0m \u001b[0mrange\u001b[0m \u001b[0;34m(\u001b[0m\u001b[0;36m0\u001b[0m\u001b[0;34m,\u001b[0m\u001b[0;36m6\u001b[0m\u001b[0;34m)\u001b[0m\u001b[0;34m:\u001b[0m\u001b[0;34m\u001b[0m\u001b[0;34m\u001b[0m\u001b[0m\n\u001b[0;32m---> 48\u001b[0;31m     \u001b[0mprint\u001b[0m \u001b[0;34m(\u001b[0m\u001b[0;34m'dimension ='\u001b[0m\u001b[0;34m,\u001b[0m\u001b[0;34mf'{i+2}'\u001b[0m\u001b[0;34m,\u001b[0m\u001b[0;34m'-->'\u001b[0m\u001b[0;34m,\u001b[0m\u001b[0;34m'alpha = '\u001b[0m\u001b[0;34m,\u001b[0m\u001b[0;36m2\u001b[0m\u001b[0;34m**\u001b[0m\u001b[0;34m(\u001b[0m\u001b[0mi\u001b[0m\u001b[0;34m+\u001b[0m\u001b[0;36m2\u001b[0m\u001b[0;34m)\u001b[0m\u001b[0;34m*\u001b[0m\u001b[0mp\u001b[0m\u001b[0;34m[\u001b[0m\u001b[0mi\u001b[0m\u001b[0;34m]\u001b[0m\u001b[0;34m)\u001b[0m\u001b[0;34m\u001b[0m\u001b[0;34m\u001b[0m\u001b[0m\n\u001b[0m\u001b[1;32m     49\u001b[0m \u001b[0;34m\u001b[0m\u001b[0m\n",
      "\u001b[0;31mIndexError\u001b[0m: index 5 is out of bounds for axis 0 with size 5"
     ]
    }
   ],
   "source": [
    "rnd=TRandom3()\n",
    "rnd.SetSeed(123456789)\n",
    "\n",
    "N=100000\n",
    "\n",
    "for j in range (2,7):\n",
    "    globals()[f'n_in{j}']=0.\n",
    "\n",
    "s2=0.\n",
    "\n",
    "for d in range (2,7):\n",
    "    for i in range (0,N):\n",
    "        x=2*rnd.Rndm()-1\n",
    "        y=2*rnd.Rndm()-1\n",
    "        z=2*rnd.Rndm()-1\n",
    "        w=2*rnd.Rndm()-1\n",
    "        h=2*rnd.Rndm()-1\n",
    "        q=2*rnd.Rndm()-1\n",
    "        if(d==2):\n",
    "            s2 = x**2+y**2\n",
    "            if(s2<1):\n",
    "                n_in2=n_in2+1\n",
    "        if(d==3):\n",
    "            s2 = x**2+y**2+z**2\n",
    "            if(s2<1):\n",
    "                n_in3=n_in3+1\n",
    "        if(d==4):\n",
    "            s2 = x**2+y**2+z**2+w**2\n",
    "            if(s2<1):\n",
    "                n_in4=n_in4+1\n",
    "        if(d==5):\n",
    "            s2 = x**2+y**2+z**2+w**2+h**2\n",
    "            if(s2<1):\n",
    "                n_in5=n_in5+1\n",
    "        if(d==6):\n",
    "            s2 = x**2+y**2+z**2+w**2+h**2+q**2\n",
    "            if(s2<1):\n",
    "                n_in6=n_in6+1\n",
    "\n",
    "p=np.array([])\n",
    "p=np.append(p,n_in2/N)\n",
    "p=np.append(p,n_in3/N)\n",
    "p=np.append(p,n_in4/N)\n",
    "p=np.append(p,n_in5/N)\n",
    "p=np.append(p,n_in6/N)\n",
    "\n",
    "for i in range (0,6):\n",
    "    print ('dimension =',f'{i+2}','-->','alpha = ',2**(i+2)*p[i])\n",
    "    "
   ]
  },
  {
   "cell_type": "code",
   "execution_count": 42,
   "id": "9ca3e360",
   "metadata": {},
   "outputs": [
    {
     "name": "stdout",
     "output_type": "stream",
     "text": [
      "dimension = 2\n",
      "alpha= 3.13948\n",
      "dimension = 3\n",
      "alpha= 4.19472\n",
      "dimension = 4\n",
      "alpha= 4.94992\n",
      "dimension = 5\n",
      "alpha= 5.27904\n",
      "dimension = 6\n",
      "alpha= 5.14944\n",
      "dimension = 7\n",
      "alpha= 4.84096\n"
     ]
    }
   ],
   "source": [
    "rn=TRandom3()\n",
    "rn.SetSeed(123456789)\n",
    "\n",
    "N=100000\n",
    "n_in=0.\n",
    "s=0.\n",
    "\n",
    "for d in range (2,8):\n",
    "    n_in=0.\n",
    "    for i in range (0,N):\n",
    "        b=0.\n",
    "        for j in range (0,d):\n",
    "            s=2*rn.Rndm()-1\n",
    "            b+=s*s\n",
    "        if(b<1):\n",
    "             n_in=n_in+1\n",
    "    print('dimension =',d)\n",
    "    #print(n_in/N)\n",
    "    print('alpha=',2**d*n_in/N)\n",
    "            \n",
    "#Vedere se coincide con limite richiesto!    "
   ]
  },
  {
   "cell_type": "code",
   "execution_count": null,
   "id": "3533ce58",
   "metadata": {},
   "outputs": [],
   "source": []
  }
 ],
 "metadata": {
  "kernelspec": {
   "display_name": "Python 3 (ipykernel)",
   "language": "python",
   "name": "python3"
  },
  "language_info": {
   "codemirror_mode": {
    "name": "ipython",
    "version": 3
   },
   "file_extension": ".py",
   "mimetype": "text/x-python",
   "name": "python",
   "nbconvert_exporter": "python",
   "pygments_lexer": "ipython3",
   "version": "3.8.10"
  }
 },
 "nbformat": 4,
 "nbformat_minor": 5
}
