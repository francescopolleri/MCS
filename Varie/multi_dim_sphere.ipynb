{
 "cells": [
  {
   "cell_type": "code",
   "execution_count": 25,
   "id": "5db2946d",
   "metadata": {},
   "outputs": [],
   "source": [
    "import numpy as np\n",
    "import math as m\n",
    "from ROOT import *\n",
    "import matplotlib.pyplot as plt"
   ]
  },
  {
   "cell_type": "markdown",
   "id": "b5310150",
   "metadata": {},
   "source": [
    "METODO SENZA LOOP"
   ]
  },
  {
   "cell_type": "code",
   "execution_count": 3,
   "id": "f76dcf9f",
   "metadata": {},
   "outputs": [
    {
     "name": "stdout",
     "output_type": "stream",
     "text": [
      "dimension = 2 --> alpha =  3.15488\n",
      "dimension = 3 --> alpha =  4.18016\n",
      "dimension = 4 --> alpha =  4.91136\n",
      "dimension = 5 --> alpha =  5.2368\n",
      "dimension = 6 --> alpha =  5.27296\n"
     ]
    },
    {
     "ename": "IndexError",
     "evalue": "index 5 is out of bounds for axis 0 with size 5",
     "output_type": "error",
     "traceback": [
      "\u001b[0;31m---------------------------------------------------------------------------\u001b[0m",
      "\u001b[0;31mIndexError\u001b[0m                                Traceback (most recent call last)",
      "\u001b[0;32m/tmp/ipykernel_568/458903768.py\u001b[0m in \u001b[0;36m<module>\u001b[0;34m\u001b[0m\n\u001b[1;32m     46\u001b[0m \u001b[0;34m\u001b[0m\u001b[0m\n\u001b[1;32m     47\u001b[0m \u001b[0;32mfor\u001b[0m \u001b[0mi\u001b[0m \u001b[0;32min\u001b[0m \u001b[0mrange\u001b[0m \u001b[0;34m(\u001b[0m\u001b[0;36m0\u001b[0m\u001b[0;34m,\u001b[0m\u001b[0;36m6\u001b[0m\u001b[0;34m)\u001b[0m\u001b[0;34m:\u001b[0m\u001b[0;34m\u001b[0m\u001b[0;34m\u001b[0m\u001b[0m\n\u001b[0;32m---> 48\u001b[0;31m     \u001b[0mprint\u001b[0m \u001b[0;34m(\u001b[0m\u001b[0;34m'dimension ='\u001b[0m\u001b[0;34m,\u001b[0m\u001b[0;34mf'{i+2}'\u001b[0m\u001b[0;34m,\u001b[0m\u001b[0;34m'-->'\u001b[0m\u001b[0;34m,\u001b[0m\u001b[0;34m'alpha = '\u001b[0m\u001b[0;34m,\u001b[0m\u001b[0;36m2\u001b[0m\u001b[0;34m**\u001b[0m\u001b[0;34m(\u001b[0m\u001b[0mi\u001b[0m\u001b[0;34m+\u001b[0m\u001b[0;36m2\u001b[0m\u001b[0;34m)\u001b[0m\u001b[0;34m*\u001b[0m\u001b[0mp\u001b[0m\u001b[0;34m[\u001b[0m\u001b[0mi\u001b[0m\u001b[0;34m]\u001b[0m\u001b[0;34m)\u001b[0m\u001b[0;34m\u001b[0m\u001b[0;34m\u001b[0m\u001b[0m\n\u001b[0m\u001b[1;32m     49\u001b[0m \u001b[0;34m\u001b[0m\u001b[0m\n",
      "\u001b[0;31mIndexError\u001b[0m: index 5 is out of bounds for axis 0 with size 5"
     ]
    }
   ],
   "source": [
    "rnd=TRandom3()\n",
    "rnd.SetSeed(123456789)\n",
    "\n",
    "N=100000\n",
    "\n",
    "for j in range (2,7):\n",
    "    globals()[f'n_in{j}']=0.\n",
    "\n",
    "s2=0.\n",
    "\n",
    "for d in range (2,7):\n",
    "    for i in range (0,N):\n",
    "        x=2*rnd.Rndm()-1\n",
    "        y=2*rnd.Rndm()-1\n",
    "        z=2*rnd.Rndm()-1\n",
    "        w=2*rnd.Rndm()-1\n",
    "        h=2*rnd.Rndm()-1\n",
    "        q=2*rnd.Rndm()-1\n",
    "        if(d==2):\n",
    "            s2 = x**2+y**2\n",
    "            if(s2<1):\n",
    "                n_in2=n_in2+1\n",
    "        if(d==3):\n",
    "            s2 = x**2+y**2+z**2\n",
    "            if(s2<1):\n",
    "                n_in3=n_in3+1\n",
    "        if(d==4):\n",
    "            s2 = x**2+y**2+z**2+w**2\n",
    "            if(s2<1):\n",
    "                n_in4=n_in4+1\n",
    "        if(d==5):\n",
    "            s2 = x**2+y**2+z**2+w**2+h**2\n",
    "            if(s2<1):\n",
    "                n_in5=n_in5+1\n",
    "        if(d==6):\n",
    "            s2 = x**2+y**2+z**2+w**2+h**2+q**2\n",
    "            if(s2<1):\n",
    "                n_in6=n_in6+1\n",
    "\n",
    "p=np.array([])\n",
    "p=np.append(p,n_in2/N)\n",
    "p=np.append(p,n_in3/N)\n",
    "p=np.append(p,n_in4/N)\n",
    "p=np.append(p,n_in5/N)\n",
    "p=np.append(p,n_in6/N)\n",
    "\n",
    "for i in range (0,6):\n",
    "    print ('dimension =',f'{i+2}','-->','alpha = ',2**(i+2)*p[i])\n",
    "    "
   ]
  },
  {
   "cell_type": "markdown",
   "id": "d9f225a4",
   "metadata": {},
   "source": [
    "METODO CON LOOP"
   ]
  },
  {
   "cell_type": "code",
   "execution_count": 90,
   "id": "149974a0",
   "metadata": {},
   "outputs": [
    {
     "name": "stderr",
     "output_type": "stream",
     "text": [
      "Warning in <TCanvas::Constructor>: Deleting canvas with same name: c1\n"
     ]
    },
    {
     "data": {
      "image/png": "[encoded data removed]",
      "text/plain": [
       "<IPython.core.display.Image object>"
      ]
     },
     "metadata": {},
     "output_type": "display_data"
    }
   ],
   "source": [
    "rn=TRandom3()\n",
    "rn.SetSeed(123456789)\n",
    "\n",
    "N=100000\n",
    "n_in=0.\n",
    "s=0.\n",
    "\n",
    "a=np.array([])\n",
    "dim=np.array([])\n",
    "\n",
    "for d in range (2,15):\n",
    "    n_in=0.\n",
    "    for i in range (0,N):\n",
    "        b=0.\n",
    "        for j in range (0,d):\n",
    "            s=2*rn.Rndm()-1\n",
    "            b+=s*s\n",
    "        if(b<1):\n",
    "             n_in=n_in+1\n",
    "    a=np.append(a,2**d*n_in/N)\n",
    "    dim=np.append(dim,d)\n",
    "    #print('dimension =',d)\n",
    "    #print('alpha=',2**d*n_in/N)\n",
    "\n",
    "g=TGraph()\n",
    "c1=TCanvas(\"c1\",\"\",500,500)\n",
    "c1.Draw()\n",
    "\n",
    "for i in range (len(a)):\n",
    "    g.SetPoint(i,dim[i],a[i])\n",
    "\n",
    "g.SetMarkerStyle(20)\n",
    "g.SetMarkerColor(kBlack)\n",
    "g.SetTitle(\"Value of #alpha vs Dimension;Dimension;#alpha\")\n",
    "g.Draw(\"AP\")\n",
    "\n",
    "f=TF1(\"f\",\"pow(TMath::Pi(),x/2)/TMath::Gamma(x/2+1)\",1,15)\n",
    "f.SetLineColor(kRed)\n",
    "f.Draw(\"SAME\")\n",
    "\n",
    "#c1.BuildLegend()\n",
    "\n",
    "legend = TLegend(0.52,0.65,0.9,0.9)\n",
    "legend.SetTextSize(0.03)\n",
    "legend.AddEntry(\"f\",\"#frac{#pi^{d/2}}{#Gamma(#frac{d}{2}+1)} \",\"l\")\n",
    "legend.AddEntry(\"g\",\"Monte Carlo result\",\"p\")\n",
    "legend.Draw()\n",
    "\n"
   ]
  },
  {
   "cell_type": "code",
   "execution_count": null,
   "id": "3533ce58",
   "metadata": {},
   "outputs": [],
   "source": []
  }
 ],
 "metadata": {
  "kernelspec": {
   "display_name": "Python 3 (ipykernel)",
   "language": "python",
   "name": "python3"
  },
  "language_info": {
   "codemirror_mode": {
    "name": "ipython",
    "version": 3
   },
   "file_extension": ".py",
   "mimetype": "text/x-python",
   "name": "python",
   "nbconvert_exporter": "python",
   "pygments_lexer": "ipython3",
   "version": "3.8.10"
  }
 },
 "nbformat": 4,
 "nbformat_minor": 5
}
