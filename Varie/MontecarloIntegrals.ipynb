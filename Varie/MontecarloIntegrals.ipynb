{
 "cells": [
  {
   "cell_type": "markdown",
   "id": "4bb75cbe",
   "metadata": {},
   "source": [
    "<h1>Integrali con Montecarlo</h1>"
   ]
  },
  {
   "cell_type": "markdown",
   "id": "bac2ac74",
   "metadata": {},
   "source": [
    "Consideriamo ad esempio:\n",
    "$$ I = \\int^{xmax}_{xmin} f(x)dx \\hspace{1cm} f(x) = e^{-x}(1+acos(x))$$"
   ]
  },
  {
   "cell_type": "markdown",
   "id": "399e5070",
   "metadata": {},
   "source": [
    "Soluzione analitica\n",
    "$$F(x) = -{1\\over 2}e^{-x}(-asin(x)+acos(x)+2)$$"
   ]
  },
  {
   "cell_type": "markdown",
   "id": "1e80f133",
   "metadata": {},
   "source": [
    "Soluzione numerica con Montecarlo con i metodi\n",
    "<ul>\n",
    "    <li> Reiezione\n",
    "    <li> Campionamento semplice\n",
    "    <li> Campionamento d'importanza\n",
    "</ul>"
   ]
  },
  {
   "cell_type": "markdown",
   "id": "2ea6725e",
   "metadata": {},
   "source": [
    "Dati: a=0.5, xmax=5, xmin=0"
   ]
  },
  {
   "cell_type": "markdown",
   "id": "37f83c1d",
   "metadata": {},
   "source": [
    "<h2>Disegno della funzione da integrare</h2>"
   ]
  },
  {
   "cell_type": "code",
   "execution_count": 1,
   "id": "dd4d30ac",
   "metadata": {},
   "outputs": [
    {
     "data": {
      "image/png": "[encoded data removed]",
      "text/plain": [
       "<IPython.core.display.Image object>"
      ]
     },
     "metadata": {},
     "output_type": "display_data"
    }
   ],
   "source": [
    "double a    =  0.5;\n",
    "double xmax =    5;\n",
    "double xmin =    0;\n",
    "double funmax = (1+a);\n",
    "\n",
    "TCanvas c;\n",
    "c.Draw(); \n",
    "\n",
    "TF1 f(\"f\",\"exp(-x)*(1+[0]*cos(x))\",xmin,xmax);\n",
    "f.SetParameter(0,a);\n",
    "f.Draw();\n",
    "f.SetTitle(\"\");\n",
    "f.SetLineColor(kRed);\n",
    "f.SetLineWidth(3);"
   ]
  },
  {
   "cell_type": "code",
   "execution_count": 2,
   "id": "c8d95d26",
   "metadata": {},
   "outputs": [],
   "source": [
    "TF1 fInt(\"fInt\",\"-(1/2.)*exp(-x)*(-[0]*sin(x)+[0]*cos(x)+2)\",xmin,xmax);\n",
    "fInt.SetParameter(0,a);"
   ]
  },
  {
   "cell_type": "markdown",
   "id": "e5dee1ca",
   "metadata": {},
   "source": [
    "\n",
    "<h2>Reiezione </h2>"
   ]
  },
  {
   "cell_type": "code",
   "execution_count": 3,
   "id": "4c139158",
   "metadata": {},
   "outputs": [],
   "source": [
    "TRandom3 rnd;\n",
    "rnd.SetSeed(987654321);\n",
    "\n",
    "double x, y;\n",
    "double nACC = 0;\n",
    "double nTOT = 1000000;"
   ]
  },
  {
   "cell_type": "code",
   "execution_count": 4,
   "id": "bc801db4",
   "metadata": {},
   "outputs": [
    {
     "name": "stdout",
     "output_type": "stream",
     "text": [
      "Reiezione\n",
      "I 1.24428 += 0.00278996\n",
      "Inom 1.24117\n",
      "Cpu_time_used 0.05\n"
     ]
    }
   ],
   "source": [
    "TStopwatch treiezione;\n",
    "\n",
    "for(int i=0;i<nTOT;i++){\n",
    "    x = rnd.Rndm()*xmax+xmin;\n",
    "    y = rnd.Rndm()*(1+a);\n",
    "    if(y < f(x)){\n",
    "      nACC++;\n",
    "    }\n",
    "}\n",
    "\n",
    "double p    = nACC/nTOT;\n",
    "double area = (xmax-xmin)*funmax;\n",
    "double I    = p*area;\n",
    "double eI   = sqrt(p*(1-p)/nTOT)*area;\n",
    "\n",
    "cout<<\"Reiezione\" << endl;\n",
    "cout<<\"I \"<<I<<\" += \"<<eI<<endl;\n",
    "cout<<\"Inom \" <<fInt(xmax)-fInt(xmin) <<endl;\n",
    "cout<<\"Cpu_time_used \"<<treiezione.CpuTime()<<endl;"
   ]
  },
  {
   "cell_type": "markdown",
   "id": "cc443f4c",
   "metadata": {},
   "source": [
    "<h2>Campionamento semplice</h2>"
   ]
  },
  {
   "cell_type": "code",
   "execution_count": 5,
   "id": "e2b18148",
   "metadata": {},
   "outputs": [
    {
     "name": "stdout",
     "output_type": "stream",
     "text": [
      "Campionamento semplice\n",
      "I 1.24066 += 0.00185058\n",
      "Inom 1.24117\n",
      "Cpu_time_used 0.04\n"
     ]
    }
   ],
   "source": [
    "TStopwatch tcampsemplice;  \n",
    "double fm  = 0;\n",
    "  double fm2 = 0;\n",
    "  for(int i=0;i<nTOT;i++){\n",
    "    x = rnd.Rndm()*xmax;\n",
    "    y = f(x);\n",
    "    fm  += y;\n",
    "    fm2 += y*y;\n",
    "  }\n",
    "\n",
    "  fm  = fm/nTOT;\n",
    "  fm2 = fm2/nTOT;\n",
    "  \n",
    "  I    = fm*(xmax-xmin);\n",
    "  eI   = sqrt((fm2-fm*fm)/(nTOT-1))*(xmax-xmin);\n",
    "  \n",
    "  cout<<\"Campionamento semplice\" << endl;\n",
    "  cout<<\"I \"<<I<<\" += \"<<eI<<endl;\n",
    "  cout<<\"Inom \" <<fInt(xmax)-fInt(xmin) <<endl;\n",
    "  cout<<\"Cpu_time_used \"<<tcampsemplice.CpuTime()<<endl;"
   ]
  },
  {
   "cell_type": "markdown",
   "id": "5a5b7a11",
   "metadata": {},
   "source": [
    "<h2> Campionamento d'importanza </h2>"
   ]
  },
  {
   "cell_type": "markdown",
   "id": "6fa071e0",
   "metadata": {},
   "source": [
    "Funzione di envelope per il campionamento di importanza\n",
    "$$ g(x) = e^{-x}(1+a)$$\n"
   ]
  },
  {
   "cell_type": "markdown",
   "id": "667ef0f3",
   "metadata": {},
   "source": [
    "Necessario normalizzare g(x) tra xmin e xmax per il campionamento d'importanza\n",
    "\n",
    "$$g(x) = {e^{-x}\\over (e^{-xmin}-e^{-xmax})}$$"
   ]
  },
  {
   "cell_type": "code",
   "execution_count": 6,
   "id": "d139bc5e",
   "metadata": {},
   "outputs": [
    {
     "data": {
      "image/png": "[encoded data removed]",
      "text/plain": [
       "<IPython.core.display.Image object>"
      ]
     },
     "metadata": {},
     "output_type": "display_data"
    }
   ],
   "source": [
    "\n",
    "TF1 fEnv(\"f\",\"exp(-x)*(1+[0])\",xmin,xmax);\n",
    "\n",
    "TCanvas c1;\n",
    "c1.Draw(); \n",
    "\n",
    "fEnv.SetParameter(0,a);\n",
    "f.Draw();\n",
    "f.SetTitle(\"\");\n",
    "fEnv.Draw(\"SAME\");\n",
    "f.SetLineColor(kRed);\n",
    "fEnv.SetLineColor(kBlue);\n",
    "f.SetLineWidth(3);\n",
    "fEnv.SetLineWidth(3);"
   ]
  },
  {
   "cell_type": "code",
   "execution_count": 7,
   "id": "70c7ca37",
   "metadata": {},
   "outputs": [
    {
     "name": "stdout",
     "output_type": "stream",
     "text": [
      "Campionamento d'importanza\n",
      "I 1.24077 += 0.000294542\n",
      "Inom 1.24117\n",
      "Cpu_time_used 0.07\n"
     ]
    }
   ],
   "source": [
    "TStopwatch tcampimp;   \n",
    "fm  = 0;\n",
    "fm2 = 0;\n",
    "for(int i=0;i<nTOT;i++){\n",
    "    x    = -TMath::Log(1.0-(rnd.Rndm()*(1-exp(-xmax))));\n",
    "    y    = f(x)/(exp(-x)/(1-exp(-xmax))); // necessario che g(x) sia una pdf\n",
    "    fm  += y;\n",
    "    fm2 += y*y;\n",
    "}\n",
    "\n",
    "fm  = fm/nTOT;\n",
    "fm2 = fm2/nTOT;\n",
    "  \n",
    "I    = fm;\n",
    "eI   = sqrt((fm2-fm*fm)/(nTOT-1));\n",
    "   \n",
    "cout<<\"Campionamento d'importanza\" << endl;\n",
    "cout<<\"I \"<<I<<\" += \"<<eI<<endl;\n",
    "cout<<\"Inom \" <<fInt(xmax)-fInt(xmin) <<endl;\n",
    "cout<<\"Cpu_time_used \"<<tcampimp.CpuTime()<<endl;\n"
   ]
  },
  {
   "cell_type": "code",
   "execution_count": null,
   "id": "06d22b0a",
   "metadata": {},
   "outputs": [],
   "source": []
  },
  {
   "cell_type": "code",
   "execution_count": null,
   "id": "9bc51f1f",
   "metadata": {},
   "outputs": [],
   "source": []
  },
  {
   "cell_type": "code",
   "execution_count": null,
   "id": "919dac58",
   "metadata": {},
   "outputs": [],
   "source": []
  }
 ],
 "metadata": {
  "kernelspec": {
   "display_name": "ROOT C++",
   "language": "c++",
   "name": "root"
  },
  "language_info": {
   "codemirror_mode": "text/x-c++src",
   "file_extension": ".C",
   "mimetype": " text/x-c++src",
   "name": "c++"
  }
 },
 "nbformat": 4,
 "nbformat_minor": 5
}
