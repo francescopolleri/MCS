{
 "cells": [
  {
   "cell_type": "code",
   "execution_count": null,
   "id": "a0001f24",
   "metadata": {},
   "outputs": [],
   "source": [
    "import matplotlib.pyplot as plt \n",
    "import math\n",
    "import numpy as np"
   ]
  },
  {
   "cell_type": "code",
   "execution_count": null,
   "id": "020b8cff",
   "metadata": {},
   "outputs": [],
   "source": [
    "def a(sigma,f,x):\n",
    "    return (x**2/sigma**4)*f - f/(sigma**2)\n",
    "\n",
    "def soleq(n1,n2,sigma):\n",
    "    f=np.array(x)\n",
    "    j=np.sign(n2-n1)\n",
    "    f[n1]=0\n",
    "    f[n1+j]=1.0e-4\n",
    "\n",
    "    for i in range(n1+2*j,n2+j,j):\n",
    "\n",
    "        f[i] = 2*f[i-j]-f[i-2*j]+h*h*a(sigma,f[i-j],x[i-j])\n",
    "    return f"
   ]
  },
  {
   "cell_type": "code",
   "execution_count": 11,
   "id": "a1e286fe",
   "metadata": {},
   "outputs": [],
   "source": [
    "sigma =1\n",
    "\n",
    "n=10000\n",
    "\n",
    "x=np.linspace(-5,5,n)\n",
    "h=x[0]-x[1]\n",
    "\n",
    "f=soleq(0,9999,1)\n",
    "#f=soleq(9999,0,1)"
   ]
  },
  {
   "cell_type": "code",
   "execution_count": 12,
   "id": "e2301772",
   "metadata": {},
   "outputs": [
    {
     "data": {
      "text/plain": [
       "[<matplotlib.lines.Line2D at 0x7f6679e4c4c0>]"
      ]
     },
     "execution_count": 12,
     "metadata": {},
     "output_type": "execute_result"
    },
    {
     "data": {
      "image/png": "[encoded data removed]",
      "text/plain": [
       "<Figure size 432x288 with 1 Axes>"
      ]
     },
     "metadata": {
      "needs_background": "light"
     },
     "output_type": "display_data"
    }
   ],
   "source": [
    "plt.plot(x,f)"
   ]
  },
  {
   "cell_type": "code",
   "execution_count": null,
   "id": "31e8f683",
   "metadata": {},
   "outputs": [],
   "source": []
  }
 ],
 "metadata": {
  "kernelspec": {
   "display_name": "Python 3 (ipykernel)",
   "language": "python",
   "name": "python3"
  },
  "language_info": {
   "codemirror_mode": {
    "name": "ipython",
    "version": 3
   },
   "file_extension": ".py",
   "mimetype": "text/x-python",
   "name": "python",
   "nbconvert_exporter": "python",
   "pygments_lexer": "ipython3",
   "version": "3.8.10"
  }
 },
 "nbformat": 4,
 "nbformat_minor": 5
}
