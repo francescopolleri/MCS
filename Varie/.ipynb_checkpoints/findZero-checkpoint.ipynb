{
 "cells": [
  {
   "cell_type": "markdown",
   "id": "bdc54898",
   "metadata": {},
   "source": [
    "RICERCA DI ZERI  DI UNA FUNZIONE"
   ]
  },
  {
   "cell_type": "markdown",
   "id": "6a071bd0",
   "metadata": {},
   "source": [
    "Vogliamo scrivere un codice in grado di trovare gli zeri di una funzione."
   ]
  },
  {
   "cell_type": "code",
   "execution_count": 4,
   "id": "68421d07",
   "metadata": {
    "scrolled": false
   },
   "outputs": [],
   "source": [
    "import matplotlib.pyplot as plt\n",
    "import numpy as np\n",
    "import math"
   ]
  },
  {
   "cell_type": "code",
   "execution_count": 5,
   "id": "c71febb5",
   "metadata": {},
   "outputs": [
    {
     "data": {
      "image/png": "[encoded data removed]",
      "text/plain": [
       "<Figure size 432x288 with 1 Axes>"
      ]
     },
     "metadata": {
      "needs_background": "light"
     },
     "output_type": "display_data"
    }
   ],
   "source": [
    "x=np.linspace(-2,2,100)\n",
    "y=np.sin(x)/x\n",
    "plt.plot(x,y)\n",
    "plt.show()"
   ]
  },
  {
   "cell_type": "code",
   "execution_count": 7,
   "id": "db37c248",
   "metadata": {},
   "outputs": [],
   "source": [
    "def func(x):\n",
    "    return x**3 -1\n",
    "x=np.linspace(-2,2,100)"
   ]
  },
  {
   "cell_type": "code",
   "execution_count": 8,
   "id": "fd49a2aa",
   "metadata": {},
   "outputs": [],
   "source": [
    "def findZero(fun,emin,emax,tol):\n",
    "    emed=(emin+emax)/2\n",
    "    while((emax-emin)>tol):\n",
    "        fmed=fun(emed)\n",
    "        fmin=fun(emin)\n",
    "        fmax=fun(emax)\n",
    "        if fmin*fmax<=0:\n",
    "            emax=emed\n",
    "        else:\n",
    "            emin=emed\n",
    "        emed=(emin+emax)/2\n",
    "        return emed"
   ]
  },
  {
   "cell_type": "code",
   "execution_count": 9,
   "id": "c6e1db42",
   "metadata": {},
   "outputs": [
    {
     "name": "stdout",
     "output_type": "stream",
     "text": [
      "-1.0\n"
     ]
    }
   ],
   "source": [
    "x0=findZero(func,-2,2,0.001)\n",
    "print(x0)"
   ]
  },
  {
   "cell_type": "code",
   "execution_count": null,
   "id": "bb0814ea",
   "metadata": {},
   "outputs": [],
   "source": []
  }
 ],
 "metadata": {
  "kernelspec": {
   "display_name": "Python 3 (ipykernel)",
   "language": "python",
   "name": "python3"
  },
  "language_info": {
   "codemirror_mode": {
    "name": "ipython",
    "version": 3
   },
   "file_extension": ".py",
   "mimetype": "text/x-python",
   "name": "python",
   "nbconvert_exporter": "python",
   "pygments_lexer": "ipython3",
   "version": "3.8.10"
  }
 },
 "nbformat": 4,
 "nbformat_minor": 5
}
