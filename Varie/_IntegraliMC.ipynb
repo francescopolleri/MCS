{
 "cells": [
  {
   "cell_type": "markdown",
   "id": "874a8c30",
   "metadata": {},
   "source": [
    "CALCOLO INTEGRALI CON METODO MONTE CARLO"
   ]
  },
  {
   "cell_type": "code",
   "execution_count": 22,
   "id": "c6ea7ea9",
   "metadata": {},
   "outputs": [],
   "source": [
    "from ROOT import *\n",
    "import numpy as np\n",
    "import math as m\n",
    "import matplotlib.pyplot as plt"
   ]
  },
  {
   "cell_type": "code",
   "execution_count": 45,
   "id": "1478bdfb",
   "metadata": {},
   "outputs": [
    {
     "data": {
      "text/plain": [
       "[<matplotlib.lines.Line2D at 0x7fc94e598bb0>]"
      ]
     },
     "execution_count": 45,
     "metadata": {},
     "output_type": "execute_result"
    },
    {
     "data": {
      "image/png": "[encoded data removed]",
      "text/plain": [
       "<Figure size 432x288 with 1 Axes>"
      ]
     },
     "metadata": {
      "needs_background": "light"
     },
     "output_type": "display_data"
    }
   ],
   "source": [
    "n=100\n",
    "\n",
    "def fun(x):\n",
    "    return np.exp(-3*x)+np.sin(x)\n",
    "\n",
    "x=np.linspace(0,1,n)\n",
    "\n",
    "plt.plot(x,fun(x))"
   ]
  },
  {
   "cell_type": "code",
   "execution_count": 53,
   "id": "b2ddce15",
   "metadata": {},
   "outputs": [
    {
     "name": "stdout",
     "output_type": "stream",
     "text": [
      "I= 0.775995 +/- 0.00041692536499354413\n"
     ]
    }
   ],
   "source": [
    "rnd = TRandom3 ( )\n",
    "rnd.SetSeed (123456789)\n",
    "\n",
    "N=1000000\n",
    "\n",
    "a=0\n",
    "b=1\n",
    "\n",
    "fmax=1.0\n",
    "fmin=0\n",
    "\n",
    "n1=0\n",
    "\n",
    "for i in range (0,N):\n",
    "    x=a+rnd.Rndm()*(b-a)\n",
    "    y=rnd.Rndm()\n",
    "    f=fun(x)\n",
    "    if y<fun(x):\n",
    "        n1=n1+1\n",
    "\n",
    "p=n1/N\n",
    "\n",
    "I=(b-a)*(fmax-fmin)*p\n",
    "\n",
    "ep=sqrt(p*(1-p)/N)\n",
    "eI=ep*(b-a)*(fmax-fmin)\n",
    "\n",
    "\n",
    "print('I=',I,'+/-',eI)\n"
   ]
  },
  {
   "cell_type": "code",
   "execution_count": null,
   "id": "f71593c0",
   "metadata": {},
   "outputs": [],
   "source": []
  }
 ],
 "metadata": {
  "kernelspec": {
   "display_name": "Python 3 (ipykernel)",
   "language": "python",
   "name": "python3"
  },
  "language_info": {
   "codemirror_mode": {
    "name": "ipython",
    "version": 3
   },
   "file_extension": ".py",
   "mimetype": "text/x-python",
   "name": "python",
   "nbconvert_exporter": "python",
   "pygments_lexer": "ipython3",
   "version": "3.8.10"
  }
 },
 "nbformat": 4,
 "nbformat_minor": 5
}
