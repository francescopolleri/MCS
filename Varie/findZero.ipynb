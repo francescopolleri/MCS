{
 "cells": [
  {
   "cell_type": "markdown",
   "id": "bdc54898",
   "metadata": {},
   "source": [
    "RICERCA DI ZERI  DI UNA FUNZIONE"
   ]
  },
  {
   "cell_type": "markdown",
   "id": "6a071bd0",
   "metadata": {},
   "source": [
    "Vogliamo scrivere un codice in grado di trovare gli zeri di una funzione."
   ]
  },
  {
   "cell_type": "code",
   "execution_count": null,
   "id": "68421d07",
   "metadata": {
    "scrolled": false
   },
   "outputs": [],
   "source": [
    "import matplotlib.pyplot as plt\n",
    "import numpy as np\n",
    "import math"
   ]
  },
  {
   "cell_type": "code",
   "execution_count": null,
   "id": "820151b6",
   "metadata": {},
   "outputs": [],
   "source": [
    "def func(x):\n",
    "    return x**2-3*x-7"
   ]
  },
  {
   "cell_type": "code",
   "execution_count": null,
   "id": "db37c248",
   "metadata": {},
   "outputs": [],
   "source": [
    "x=np.linspace(-2,2,100)\n",
    "y=func(x)\n",
    "plt.plot(x,y)\n",
    "plt.show()"
   ]
  },
  {
   "cell_type": "code",
   "execution_count": null,
   "id": "c4bfcd8c",
   "metadata": {},
   "outputs": [],
   "source": [
    "def findZero(fun,emin,emax,tol):\n",
    "    emed=(emin+emax)/2\n",
    "    while((emax-emin)>tol):\n",
    "        fmed=fun(emed)\n",
    "        fmin=fun(emin)\n",
    "        if((fmed*fmin)<=0):\n",
    "            emax=emed\n",
    "        else:\n",
    "            emin=emed\n",
    "        emed=(emin+emax)/2\n",
    "    return emed"
   ]
  },
  {
   "cell_type": "code",
   "execution_count": null,
   "id": "c6e1db42",
   "metadata": {},
   "outputs": [],
   "source": [
    "x0=findZero(func,-2,2,0.001)\n",
    "print(x0)"
   ]
  },
  {
   "cell_type": "code",
   "execution_count": null,
   "id": "bb0814ea",
   "metadata": {},
   "outputs": [],
   "source": []
  }
 ],
 "metadata": {
  "kernelspec": {
   "display_name": "Python 3 (ipykernel)",
   "language": "python",
   "name": "python3"
  },
  "language_info": {
   "codemirror_mode": {
    "name": "ipython",
    "version": 3
   },
   "file_extension": ".py",
   "mimetype": "text/x-python",
   "name": "python",
   "nbconvert_exporter": "python",
   "pygments_lexer": "ipython3",
   "version": "3.8.10"
  }
 },
 "nbformat": 4,
 "nbformat_minor": 5
}
