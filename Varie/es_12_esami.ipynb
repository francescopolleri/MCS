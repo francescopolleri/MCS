{
 "cells": [
  {
   "cell_type": "code",
   "execution_count": 7,
   "id": "6c0da130",
   "metadata": {},
   "outputs": [],
   "source": [
    "import numpy as np\n",
    "import matplotlib.pyplot as plt\n",
    "from ROOT import *\n",
    "import time as t"
   ]
  },
  {
   "cell_type": "code",
   "execution_count": 37,
   "id": "ff03f73b",
   "metadata": {},
   "outputs": [
    {
     "name": "stderr",
     "output_type": "stream",
     "text": [
      "Warning in <TROOT::Append>: Replacing existing TH1: h (Potential memory leak).\n",
      "Warning in <TCanvas::Constructor>: Deleting canvas with same name: c1\n"
     ]
    },
    {
     "data": {
      "image/png": "[encoded data removed]",
      "text/plain": [
       "<IPython.core.display.Image object>"
      ]
     },
     "metadata": {},
     "output_type": "display_data"
    }
   ],
   "source": [
    "rnd=TRandom3()\n",
    "rnd.SetSeed(123456789)\n",
    "\n",
    "Nev=100000\n",
    "\n",
    "mu=13\n",
    "n=0\n",
    "s=0\n",
    "\n",
    "h=TH1D(\"h\",\"\",11,0,0)\n",
    "for i in range (0,Nev):\n",
    "    dt = -np.log(1-rnd.Rndm())\n",
    "    s += dt\n",
    "    if(s>mu):          \n",
    "        h.Fill(i-n)\n",
    "        n=i\n",
    "        s=0\n",
    "            \n",
    "            \n",
    "c1=TCanvas(\"c1\",\"\",500,500)\n",
    "c1.Draw()\n",
    "h.Draw()\n",
    "\n"
   ]
  },
  {
   "cell_type": "code",
   "execution_count": null,
   "id": "2a77a917",
   "metadata": {},
   "outputs": [],
   "source": []
  },
  {
   "cell_type": "code",
   "execution_count": null,
   "id": "b63a0a18",
   "metadata": {},
   "outputs": [],
   "source": []
  }
 ],
 "metadata": {
  "kernelspec": {
   "display_name": "Python 3 (ipykernel)",
   "language": "python",
   "name": "python3"
  },
  "language_info": {
   "codemirror_mode": {
    "name": "ipython",
    "version": 3
   },
   "file_extension": ".py",
   "mimetype": "text/x-python",
   "name": "python",
   "nbconvert_exporter": "python",
   "pygments_lexer": "ipython3",
   "version": "3.8.10"
  }
 },
 "nbformat": 4,
 "nbformat_minor": 5
}
