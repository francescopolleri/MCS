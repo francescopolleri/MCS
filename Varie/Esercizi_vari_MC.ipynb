{
 "cells": [
  {
   "cell_type": "code",
   "execution_count": 61,
   "id": "f0d4879b",
   "metadata": {},
   "outputs": [
    {
     "name": "stdout",
     "output_type": "stream",
     "text": [
      "Vsfera_R= 905.1537024\n",
      "VsferaR con buco= 900.9664720000001\n",
      "16892.74769786581\n"
     ]
    }
   ],
   "source": [
    "import numpy as np \n",
    "import matplotlib.pyplot as plt\n",
    "from ROOT import *\n",
    "\n",
    "rnd=TRandom3()\n",
    "rnd.SetSeed(123456789)\n",
    "'''\n",
    "rho=10\n",
    "\n",
    "Nev=10000\n",
    "n_in=0\n",
    "n_in_s=0\n",
    "Rc=3\n",
    "Rs=3\n",
    "H=3\n",
    "\n",
    "d2c=0\n",
    "d2s=0\n",
    "for i in range (0,Nev):\n",
    "    x=2*Rc*rnd.Rndm()-Rc\n",
    "    y=2*Rc*rnd.Rndm()-Rc\n",
    "    xs=2*Rs*rnd.Rndm()-Rs\n",
    "    ys=2*Rs*rnd.Rndm()-Rs\n",
    "    zs=2*Rs*rnd.Rndm()-Rs\n",
    "    if(x**2+y**2<Rc**2):\n",
    "        d2c+=(x**2+y**2)\n",
    "        n_in=n_in+1\n",
    "    if(xs**2+ys**2+zs**2<Rs**2):\n",
    "        d2s+=((xs+Rs+Rc)**2+(ys+Rs+Rc)**2)\n",
    "        n_in_s=n_in_s+1\n",
    "\n",
    "    \n",
    "Vc=np.pi*Rc**2*H\n",
    "Vs=4/3*np.pi*Rs**3\n",
    "\n",
    "pc=n_in/Nev\n",
    "ps=n_in_s/Nev\n",
    "\n",
    "I_c=rho*Vc*d2c/n_in\n",
    "I_s=rho*Vs*d2s/n_in_s\n",
    "\n",
    "\n",
    "print(I_s+I_c)\n",
    "\n",
    "I_a=1/2*rho*Vc*Rc**2+2/5*rho*Vs*Rs**2+2*rho*Vs*(Rc+Rs)**2\n",
    "print(I_a)\n",
    "'''\n",
    "R=6\n",
    "r=1\n",
    "rho=1.3\n",
    "\n",
    "d2=0; d2r=0\n",
    "\n",
    "n_in=0; n_in_r=0\n",
    "Nev=10000000\n",
    "\n",
    "for i in range (0,Nev):\n",
    "    x=2*R*rnd.Rndm()-R\n",
    "    y=2*R*rnd.Rndm()-R\n",
    "    z=2*R*rnd.Rndm()-R\n",
    "    xs=2*r*rnd.Rndm()-r\n",
    "    ys=2*r*rnd.Rndm()-r\n",
    "    zs=2*r*rnd.Rndm()-r\n",
    "    if(x**2+y**2+z**2<R**2):\n",
    "        d2+=(x**2+y**2)\n",
    "        n_in=n_in+1\n",
    "    if(xs**2+ys**2+zs**2<r**2):\n",
    "        d2r+=((xs+2)**2+(ys+2)**2)\n",
    "        n_in_r=n_in_r+1\n",
    "        \n",
    "V=4/3*np.pi*R**3\n",
    "Vr=4/3*np.pi*r**3\n",
    "\n",
    "pR=n_in/Nev; pr=n_in_r/Nev\n",
    "\n",
    "\n",
    "print('Vsfera_R=',(2*R)**3*pR)\n",
    "print('VsferaR con buco=',(2*R)**3*pR-pr*(2*r)**3)\n",
    "\n",
    "\n",
    "I=rho*V*d2/n_in\n",
    "I_r=rho*Vr*d2r/n_in_r\n",
    "\n",
    "print(I-I_r)\n",
    "\n",
    "\n",
    "    "
   ]
  },
  {
   "cell_type": "code",
   "execution_count": 47,
   "id": "68de7bb2",
   "metadata": {},
   "outputs": [
    {
     "name": "stderr",
     "output_type": "stream",
     "text": [
      "Warning in <TCanvas::Constructor>: Deleting canvas with same name: c1\n",
      "Warning in <TROOT::Append>: Replacing existing TH1: h (Potential memory leak).\n"
     ]
    },
    {
     "data": {
      "image/png": "[encoded data removed]",
      "text/plain": [
       "<IPython.core.display.Image object>"
      ]
     },
     "metadata": {},
     "output_type": "display_data"
    }
   ],
   "source": [
    "import numpy as np \n",
    "import matplotlib.pyplot as plt\n",
    "from ROOT import *\n",
    "\n",
    "tau1=0.1; tau2=1; tau_acc=0.1\n",
    "f=0.3\n",
    "\n",
    "rnd=TRandom3()\n",
    "rnd.SetSeed(123456789)\n",
    "\n",
    "c1=TCanvas(\"c1\",\"\",400,400)\n",
    "h=TH1D(\"h\",\"\",100,0,5)\n",
    "k=TH1D(\"k\",\"\",100,0,5)\n",
    "\n",
    "Nev=10000\n",
    "for i in range (0,Nev):\n",
    "    if (rnd.Rndm()<f):\n",
    "        t=-tau1*np.log(1-rnd.Rndm())\n",
    "    else:\n",
    "        t=-tau2*np.log(1-rnd.Rndm())\n",
    "    h.Fill(t)\n",
    "    if(rnd.Rndm()<(1-np.exp(-t/tau_acc))):\n",
    "        k.Fill(t)\n",
    "\n",
    "    \n",
    "    \n",
    "\n",
    "c1.Draw()\n",
    "h.Draw()\n",
    "k.Draw('SAME')\n",
    "h.SetLineColor(kBlue)\n",
    "k.SetLineColor(kRed)"
   ]
  },
  {
   "cell_type": "code",
   "execution_count": 8,
   "id": "5ebec877",
   "metadata": {},
   "outputs": [
    {
     "data": {
      "text/plain": [
       "'    \\nx=0\\nd=0\\nh1=TH1D(\"h\",\"\",15,0.,0.)  \\nN_particles=1000\\nN_step=100\\nfor k in range (0,N_particles):\\n    x=0\\n    for j in range (0,N_step):\\n        for i in range (0,Nev):\\n            d=2*np.sqrt(3)*rnd.Rndm()-np.sqrt(3)\\n        x += d\\n    h1.Fill(x)\\n\\nc1=TCanvas(\"c1\",\"\",400,400)\\nc1.Draw()\\nh1.Draw()\\n'"
      ]
     },
     "execution_count": 8,
     "metadata": {},
     "output_type": "execute_result"
    },
    {
     "data": {
      "image/png": "[encoded data removed]",
      "text/plain": [
       "<Figure size 432x288 with 1 Axes>"
      ]
     },
     "metadata": {
      "needs_background": "light"
     },
     "output_type": "display_data"
    }
   ],
   "source": [
    "import numpy as np \n",
    "import matplotlib.pyplot as plt\n",
    "from ROOT import *\n",
    "\n",
    "rnd=TRandom3()\n",
    "rnd.SetSeed(1324758609)\n",
    "\n",
    "Nev=2000\n",
    "\n",
    "N_urti=20\n",
    "x=0; d=0; x2=0\n",
    "s=np.zeros([])\n",
    "s2=np.zeros([])\n",
    "n_urti=np.zeros([])\n",
    "for j in range (0,N_urti):\n",
    "    n_urti=np.append(n_urti,j)\n",
    "    for i in range (0,Nev):\n",
    "        d=2*np.sqrt(3)*rnd.Rndm()-np.sqrt(3)\n",
    "    x += d\n",
    "    x2 += d**2\n",
    "    s=np.append(s,x)\n",
    "    s2=np.append(s2,x2)\n",
    "plt.plot(n_urti,s2,\"-g\",label=\"#Urti=20\")\n",
    "\n",
    "N_urti=40\n",
    "x=0; d=0; x2=0\n",
    "s=np.zeros([])\n",
    "s2=np.zeros([])\n",
    "n_urti=np.zeros([])\n",
    "for j in range (0,N_urti):\n",
    "    n_urti=np.append(n_urti,j)\n",
    "    for i in range (0,Nev):\n",
    "        d=2*np.sqrt(3)*rnd.Rndm()-np.sqrt(3)\n",
    "    x += d\n",
    "    x2 += d**2\n",
    "    s=np.append(s,x)\n",
    "    s2=np.append(s2,x2)\n",
    "plt.plot(n_urti,s2,\"-b\",label=\"#Urti=40\")\n",
    "\n",
    "N_urti=60\n",
    "x=0; d=0; x2=0\n",
    "s=np.zeros([])\n",
    "s2=np.zeros([])\n",
    "n_urti=np.zeros([])\n",
    "for j in range (0,N_urti):\n",
    "    n_urti=np.append(n_urti,j)\n",
    "    for i in range (0,Nev):\n",
    "        d=2*np.sqrt(3)*rnd.Rndm()-np.sqrt(3)\n",
    "    x += d\n",
    "    x2 += d**2\n",
    "    s=np.append(s,x)\n",
    "    s2=np.append(s2,x2)\n",
    "plt.plot(n_urti,s2,\"-r\",label=\"#Urti=60\")\n",
    "\n",
    "   \n",
    "x=0\n",
    "d=0\n",
    "h1=TH1D(\"h\",\"\",15,0.,0.)  \n",
    "N_particles=1000\n",
    "N_step=100\n",
    "for k in range (0,N_particles):\n",
    "    x=0\n",
    "    for j in range (0,N_step):\n",
    "        for i in range (0,Nev):\n",
    "            d=2*np.sqrt(3)*rnd.Rndm()-np.sqrt(3)\n",
    "        x += d\n",
    "    h1.Fill(x)\n",
    "\n",
    "c1=TCanvas(\"c1\",\"\",400,400)\n",
    "c1.Draw()\n",
    "h1.Draw()\n",
    "\n",
    "\n",
    "\n",
    "    \n",
    "    "
   ]
  },
  {
   "cell_type": "code",
   "execution_count": null,
   "id": "7aaceea8",
   "metadata": {},
   "outputs": [],
   "source": []
  }
 ],
 "metadata": {
  "kernelspec": {
   "display_name": "Python 3 (ipykernel)",
   "language": "python",
   "name": "python3"
  },
  "language_info": {
   "codemirror_mode": {
    "name": "ipython",
    "version": 3
   },
   "file_extension": ".py",
   "mimetype": "text/x-python",
   "name": "python",
   "nbconvert_exporter": "python",
   "pygments_lexer": "ipython3",
   "version": "3.8.10"
  }
 },
 "nbformat": 4,
 "nbformat_minor": 5
}
